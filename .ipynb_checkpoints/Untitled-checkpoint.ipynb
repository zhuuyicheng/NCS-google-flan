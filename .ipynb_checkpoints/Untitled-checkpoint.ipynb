{
 "cells": [
  {
   "cell_type": "code",
   "execution_count": 12,
   "id": "b60bc2f5-e60d-408b-bf3b-1ed70ed09d7c",
   "metadata": {},
   "outputs": [],
   "source": [
    "prompt =\"A step by step recipe to make bolognese pasta:\""
   ]
  },
  {
   "cell_type": "code",
   "execution_count": 14,
   "id": "b06e7b82-3c90-4933-bff5-2736238b857a",
   "metadata": {},
   "outputs": [
    {
     "name": "stdout",
     "output_type": "stream",
     "text": [
      "['Pour a cup of bolognese into a large bowl and add the pasta']\n"
     ]
    }
   ],
   "source": [
    "from transformers import AutoModelForSeq2SeqLM, AutoTokenizer\n",
    "model_id=\"google/flan-t5-base\"\n",
    "tokenizer = AutoTokenizer.from_pretrained(model_id)\n",
    "model = AutoModelForSeq2SeqLM.from_pretrained(model_id)\n",
    "data_collator = DataCollatorForSeq2Seq(tokenizer=tokenizer, model=model)\n",
    "\n",
    "inputs = tokenizer(prompt, return_tensors=\"pt\")\n",
    "outputs = model.generate(**inputs)\n",
    "print(tokenizer.batch_decode(outputs, skip_special_tokens=True))"
   ]
  },
  {
   "cell_type": "code",
   "execution_count": 9,
   "id": "48b7574f-5573-4e5c-b48a-c46b9450f3f7",
   "metadata": {},
   "outputs": [
    {
     "name": "stdout",
     "output_type": "stream",
     "text": [
      "This computer uses CUDA\n"
     ]
    }
   ],
   "source": [
    "import torch\n",
    "is_cuda=torch.cuda.is_available()\n",
    "if is_cuda:\n",
    "    print(\"This computer uses CUDA\")\n",
    "else:  \n",
    "    print(\"This computer uses CPU\")"
   ]
  },
  {
   "cell_type": "code",
   "execution_count": null,
   "id": "bb0853e0-8648-4104-99d0-7b04e3f9ca1f",
   "metadata": {},
   "outputs": [],
   "source": []
  }
 ],
 "metadata": {
  "kernelspec": {
   "display_name": "Python (LLM)",
   "language": "python",
   "name": "llm"
  },
  "language_info": {
   "codemirror_mode": {
    "name": "ipython",
    "version": 3
   },
   "file_extension": ".py",
   "mimetype": "text/x-python",
   "name": "python",
   "nbconvert_exporter": "python",
   "pygments_lexer": "ipython3",
   "version": "3.10.13"
  }
 },
 "nbformat": 4,
 "nbformat_minor": 5
}
